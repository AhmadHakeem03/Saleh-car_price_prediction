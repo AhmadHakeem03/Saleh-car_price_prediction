{
 "cells": [
  {
   "metadata": {},
   "cell_type": "markdown",
   "source": [
    "## Main Context:-\n",
    "As a vehicle salesperson, I would like to create a model that can estimate the overall amount that consumers would spend given the following characteristics:\n",
    "customer name, customer email, country, gender, age, annual salary, credit card debt, and net worth"
   ],
   "id": "46734c6f13ebab9e"
  },
  {
   "cell_type": "code",
   "id": "initial_id",
   "metadata": {
    "collapsed": true,
    "ExecuteTime": {
     "end_time": "2025-06-25T15:16:54.723595Z",
     "start_time": "2025-06-25T15:16:51.402586Z"
    }
   },
   "source": [
    "import numpy as np \n",
    "import pandas as pd \n",
    "import seaborn as sns\n",
    "import matplotlib.pyplot as plt \n",
    "import tensorflow as tf\n",
    "from tensorflow.keras.models import Sequential\n",
    "from tensorflow.keras.layers import Dense, Dropout, BatchNormalization\n",
    "from tensorflow.keras.optimizers import Adam\n",
    "from sklearn.metrics import mean_squared_error, mean_absolute_error, r2_score\n",
    "from sklearn.preprocessing import MinMaxScaler\n",
    "from sklearn.model_selection import train_test_split\n",
    "# Optional (for callbacks like EarlyStopping)\n",
    "from tensorflow.keras.callbacks import EarlyStopping"
   ],
   "outputs": [],
   "execution_count": 1
  },
  {
   "metadata": {},
   "cell_type": "markdown",
   "source": "#### download data set from kaggle",
   "id": "5cb1ad551f34d0c6"
  },
  {
   "metadata": {
    "ExecuteTime": {
     "end_time": "2025-06-25T15:16:55.175953Z",
     "start_time": "2025-06-25T15:16:54.725595Z"
    }
   },
   "cell_type": "code",
   "source": [
    "import kagglehub\n",
    "\n",
    "# Download latest version\n",
    "path = kagglehub.dataset_download(\"yashpaloswal/ann-car-sales-price-prediction\")\n",
    "\n",
    "print(\"Path to dataset files:\", path)"
   ],
   "id": "b5344f1a6b587cdd",
   "outputs": [
    {
     "name": "stdout",
     "output_type": "stream",
     "text": [
      "Warning: Looks like you're using an outdated `kagglehub` version, please consider updating (latest version: 0.3.12)\n",
      "Path to dataset files: C:\\Users\\DRT\\.cache\\kagglehub\\datasets\\yashpaloswal\\ann-car-sales-price-prediction\\versions\\1\n"
     ]
    }
   ],
   "execution_count": 2
  },
  {
   "metadata": {
    "ExecuteTime": {
     "end_time": "2025-06-25T15:16:55.191974Z",
     "start_time": "2025-06-25T15:16:55.176873Z"
    }
   },
   "cell_type": "code",
   "source": "df = pd.read_csv(\"car_purchasing.csv\", encoding=\"ISO-8859-1\")",
   "id": "42023dd3c9969376",
   "outputs": [],
   "execution_count": 3
  },
  {
   "metadata": {},
   "cell_type": "markdown",
   "source": "#### Dataset Overview",
   "id": "eaae51a62cb662c6"
  },
  {
   "metadata": {
    "ExecuteTime": {
     "end_time": "2025-06-25T15:16:55.222856Z",
     "start_time": "2025-06-25T15:16:55.193483Z"
    }
   },
   "cell_type": "code",
   "source": "df.head()",
   "id": "27d2b124d44aeaef",
   "outputs": [
    {
     "data": {
      "text/plain": [
       "     customer name                                    customer e-mail  \\\n",
       "0    Martina Avila  cubilia.Curae.Phasellus@quisaccumsanconvallis.edu   \n",
       "1    Harlan Barnes                                eu.dolor@diam.co.uk   \n",
       "2  Naomi Rodriquez  vulputate.mauris.sagittis@ametconsectetueradip...   \n",
       "3  Jade Cunningham                            malesuada@dignissim.com   \n",
       "4     Cedric Leach     felis.ullamcorper.viverra@egetmollislectus.net   \n",
       "\n",
       "        country  gender        age  annual Salary  credit card debt  \\\n",
       "0      Bulgaria       0  41.851720    62812.09301      11609.380910   \n",
       "1        Belize       0  40.870623    66646.89292       9572.957136   \n",
       "2       Algeria       1  43.152897    53798.55112      11160.355060   \n",
       "3  Cook Islands       1  58.271369    79370.03798      14426.164850   \n",
       "4        Brazil       1  57.313749    59729.15130       5358.712177   \n",
       "\n",
       "     net worth  car purchase amount  \n",
       "0  238961.2505          35321.45877  \n",
       "1  530973.9078          45115.52566  \n",
       "2  638467.1773          42925.70921  \n",
       "3  548599.0524          67422.36313  \n",
       "4  560304.0671          55915.46248  "
      ],
      "text/html": [
       "<div>\n",
       "<style scoped>\n",
       "    .dataframe tbody tr th:only-of-type {\n",
       "        vertical-align: middle;\n",
       "    }\n",
       "\n",
       "    .dataframe tbody tr th {\n",
       "        vertical-align: top;\n",
       "    }\n",
       "\n",
       "    .dataframe thead th {\n",
       "        text-align: right;\n",
       "    }\n",
       "</style>\n",
       "<table border=\"1\" class=\"dataframe\">\n",
       "  <thead>\n",
       "    <tr style=\"text-align: right;\">\n",
       "      <th></th>\n",
       "      <th>customer name</th>\n",
       "      <th>customer e-mail</th>\n",
       "      <th>country</th>\n",
       "      <th>gender</th>\n",
       "      <th>age</th>\n",
       "      <th>annual Salary</th>\n",
       "      <th>credit card debt</th>\n",
       "      <th>net worth</th>\n",
       "      <th>car purchase amount</th>\n",
       "    </tr>\n",
       "  </thead>\n",
       "  <tbody>\n",
       "    <tr>\n",
       "      <th>0</th>\n",
       "      <td>Martina Avila</td>\n",
       "      <td>cubilia.Curae.Phasellus@quisaccumsanconvallis.edu</td>\n",
       "      <td>Bulgaria</td>\n",
       "      <td>0</td>\n",
       "      <td>41.851720</td>\n",
       "      <td>62812.09301</td>\n",
       "      <td>11609.380910</td>\n",
       "      <td>238961.2505</td>\n",
       "      <td>35321.45877</td>\n",
       "    </tr>\n",
       "    <tr>\n",
       "      <th>1</th>\n",
       "      <td>Harlan Barnes</td>\n",
       "      <td>eu.dolor@diam.co.uk</td>\n",
       "      <td>Belize</td>\n",
       "      <td>0</td>\n",
       "      <td>40.870623</td>\n",
       "      <td>66646.89292</td>\n",
       "      <td>9572.957136</td>\n",
       "      <td>530973.9078</td>\n",
       "      <td>45115.52566</td>\n",
       "    </tr>\n",
       "    <tr>\n",
       "      <th>2</th>\n",
       "      <td>Naomi Rodriquez</td>\n",
       "      <td>vulputate.mauris.sagittis@ametconsectetueradip...</td>\n",
       "      <td>Algeria</td>\n",
       "      <td>1</td>\n",
       "      <td>43.152897</td>\n",
       "      <td>53798.55112</td>\n",
       "      <td>11160.355060</td>\n",
       "      <td>638467.1773</td>\n",
       "      <td>42925.70921</td>\n",
       "    </tr>\n",
       "    <tr>\n",
       "      <th>3</th>\n",
       "      <td>Jade Cunningham</td>\n",
       "      <td>malesuada@dignissim.com</td>\n",
       "      <td>Cook Islands</td>\n",
       "      <td>1</td>\n",
       "      <td>58.271369</td>\n",
       "      <td>79370.03798</td>\n",
       "      <td>14426.164850</td>\n",
       "      <td>548599.0524</td>\n",
       "      <td>67422.36313</td>\n",
       "    </tr>\n",
       "    <tr>\n",
       "      <th>4</th>\n",
       "      <td>Cedric Leach</td>\n",
       "      <td>felis.ullamcorper.viverra@egetmollislectus.net</td>\n",
       "      <td>Brazil</td>\n",
       "      <td>1</td>\n",
       "      <td>57.313749</td>\n",
       "      <td>59729.15130</td>\n",
       "      <td>5358.712177</td>\n",
       "      <td>560304.0671</td>\n",
       "      <td>55915.46248</td>\n",
       "    </tr>\n",
       "  </tbody>\n",
       "</table>\n",
       "</div>"
      ]
     },
     "execution_count": 4,
     "metadata": {},
     "output_type": "execute_result"
    }
   ],
   "execution_count": 4
  },
  {
   "metadata": {
    "ExecuteTime": {
     "end_time": "2025-06-25T15:16:55.238522Z",
     "start_time": "2025-06-25T15:16:55.224788Z"
    }
   },
   "cell_type": "code",
   "source": [
    "df = df.iloc[:, 2:]\n",
    "df.head()"
   ],
   "id": "deb4689084df61c6",
   "outputs": [
    {
     "data": {
      "text/plain": [
       "        country  gender        age  annual Salary  credit card debt  \\\n",
       "0      Bulgaria       0  41.851720    62812.09301      11609.380910   \n",
       "1        Belize       0  40.870623    66646.89292       9572.957136   \n",
       "2       Algeria       1  43.152897    53798.55112      11160.355060   \n",
       "3  Cook Islands       1  58.271369    79370.03798      14426.164850   \n",
       "4        Brazil       1  57.313749    59729.15130       5358.712177   \n",
       "\n",
       "     net worth  car purchase amount  \n",
       "0  238961.2505          35321.45877  \n",
       "1  530973.9078          45115.52566  \n",
       "2  638467.1773          42925.70921  \n",
       "3  548599.0524          67422.36313  \n",
       "4  560304.0671          55915.46248  "
      ],
      "text/html": [
       "<div>\n",
       "<style scoped>\n",
       "    .dataframe tbody tr th:only-of-type {\n",
       "        vertical-align: middle;\n",
       "    }\n",
       "\n",
       "    .dataframe tbody tr th {\n",
       "        vertical-align: top;\n",
       "    }\n",
       "\n",
       "    .dataframe thead th {\n",
       "        text-align: right;\n",
       "    }\n",
       "</style>\n",
       "<table border=\"1\" class=\"dataframe\">\n",
       "  <thead>\n",
       "    <tr style=\"text-align: right;\">\n",
       "      <th></th>\n",
       "      <th>country</th>\n",
       "      <th>gender</th>\n",
       "      <th>age</th>\n",
       "      <th>annual Salary</th>\n",
       "      <th>credit card debt</th>\n",
       "      <th>net worth</th>\n",
       "      <th>car purchase amount</th>\n",
       "    </tr>\n",
       "  </thead>\n",
       "  <tbody>\n",
       "    <tr>\n",
       "      <th>0</th>\n",
       "      <td>Bulgaria</td>\n",
       "      <td>0</td>\n",
       "      <td>41.851720</td>\n",
       "      <td>62812.09301</td>\n",
       "      <td>11609.380910</td>\n",
       "      <td>238961.2505</td>\n",
       "      <td>35321.45877</td>\n",
       "    </tr>\n",
       "    <tr>\n",
       "      <th>1</th>\n",
       "      <td>Belize</td>\n",
       "      <td>0</td>\n",
       "      <td>40.870623</td>\n",
       "      <td>66646.89292</td>\n",
       "      <td>9572.957136</td>\n",
       "      <td>530973.9078</td>\n",
       "      <td>45115.52566</td>\n",
       "    </tr>\n",
       "    <tr>\n",
       "      <th>2</th>\n",
       "      <td>Algeria</td>\n",
       "      <td>1</td>\n",
       "      <td>43.152897</td>\n",
       "      <td>53798.55112</td>\n",
       "      <td>11160.355060</td>\n",
       "      <td>638467.1773</td>\n",
       "      <td>42925.70921</td>\n",
       "    </tr>\n",
       "    <tr>\n",
       "      <th>3</th>\n",
       "      <td>Cook Islands</td>\n",
       "      <td>1</td>\n",
       "      <td>58.271369</td>\n",
       "      <td>79370.03798</td>\n",
       "      <td>14426.164850</td>\n",
       "      <td>548599.0524</td>\n",
       "      <td>67422.36313</td>\n",
       "    </tr>\n",
       "    <tr>\n",
       "      <th>4</th>\n",
       "      <td>Brazil</td>\n",
       "      <td>1</td>\n",
       "      <td>57.313749</td>\n",
       "      <td>59729.15130</td>\n",
       "      <td>5358.712177</td>\n",
       "      <td>560304.0671</td>\n",
       "      <td>55915.46248</td>\n",
       "    </tr>\n",
       "  </tbody>\n",
       "</table>\n",
       "</div>"
      ]
     },
     "execution_count": 5,
     "metadata": {},
     "output_type": "execute_result"
    }
   ],
   "execution_count": 5
  },
  {
   "metadata": {
    "ExecuteTime": {
     "end_time": "2025-06-25T15:16:55.269787Z",
     "start_time": "2025-06-25T15:16:55.240512Z"
    }
   },
   "cell_type": "code",
   "source": "df.describe()",
   "id": "9cfad72fe8dd18e5",
   "outputs": [
    {
     "data": {
      "text/plain": [
       "           gender         age  annual Salary  credit card debt  \\\n",
       "count  500.000000  500.000000     500.000000        500.000000   \n",
       "mean     0.506000   46.241674   62127.239608       9607.645049   \n",
       "std      0.500465    7.978862   11703.378228       3489.187973   \n",
       "min      0.000000   20.000000   20000.000000        100.000000   \n",
       "25%      0.000000   40.949969   54391.977195       7397.515792   \n",
       "50%      1.000000   46.049901   62915.497035       9655.035568   \n",
       "75%      1.000000   51.612263   70117.862005      11798.867487   \n",
       "max      1.000000   70.000000  100000.000000      20000.000000   \n",
       "\n",
       "            net worth  car purchase amount  \n",
       "count      500.000000           500.000000  \n",
       "mean    431475.713625         44209.799218  \n",
       "std     173536.756340         10773.178744  \n",
       "min      20000.000000          9000.000000  \n",
       "25%     299824.195900         37629.896040  \n",
       "50%     426750.120650         43997.783390  \n",
       "75%     557324.478725         51254.709517  \n",
       "max    1000000.000000         80000.000000  "
      ],
      "text/html": [
       "<div>\n",
       "<style scoped>\n",
       "    .dataframe tbody tr th:only-of-type {\n",
       "        vertical-align: middle;\n",
       "    }\n",
       "\n",
       "    .dataframe tbody tr th {\n",
       "        vertical-align: top;\n",
       "    }\n",
       "\n",
       "    .dataframe thead th {\n",
       "        text-align: right;\n",
       "    }\n",
       "</style>\n",
       "<table border=\"1\" class=\"dataframe\">\n",
       "  <thead>\n",
       "    <tr style=\"text-align: right;\">\n",
       "      <th></th>\n",
       "      <th>gender</th>\n",
       "      <th>age</th>\n",
       "      <th>annual Salary</th>\n",
       "      <th>credit card debt</th>\n",
       "      <th>net worth</th>\n",
       "      <th>car purchase amount</th>\n",
       "    </tr>\n",
       "  </thead>\n",
       "  <tbody>\n",
       "    <tr>\n",
       "      <th>count</th>\n",
       "      <td>500.000000</td>\n",
       "      <td>500.000000</td>\n",
       "      <td>500.000000</td>\n",
       "      <td>500.000000</td>\n",
       "      <td>500.000000</td>\n",
       "      <td>500.000000</td>\n",
       "    </tr>\n",
       "    <tr>\n",
       "      <th>mean</th>\n",
       "      <td>0.506000</td>\n",
       "      <td>46.241674</td>\n",
       "      <td>62127.239608</td>\n",
       "      <td>9607.645049</td>\n",
       "      <td>431475.713625</td>\n",
       "      <td>44209.799218</td>\n",
       "    </tr>\n",
       "    <tr>\n",
       "      <th>std</th>\n",
       "      <td>0.500465</td>\n",
       "      <td>7.978862</td>\n",
       "      <td>11703.378228</td>\n",
       "      <td>3489.187973</td>\n",
       "      <td>173536.756340</td>\n",
       "      <td>10773.178744</td>\n",
       "    </tr>\n",
       "    <tr>\n",
       "      <th>min</th>\n",
       "      <td>0.000000</td>\n",
       "      <td>20.000000</td>\n",
       "      <td>20000.000000</td>\n",
       "      <td>100.000000</td>\n",
       "      <td>20000.000000</td>\n",
       "      <td>9000.000000</td>\n",
       "    </tr>\n",
       "    <tr>\n",
       "      <th>25%</th>\n",
       "      <td>0.000000</td>\n",
       "      <td>40.949969</td>\n",
       "      <td>54391.977195</td>\n",
       "      <td>7397.515792</td>\n",
       "      <td>299824.195900</td>\n",
       "      <td>37629.896040</td>\n",
       "    </tr>\n",
       "    <tr>\n",
       "      <th>50%</th>\n",
       "      <td>1.000000</td>\n",
       "      <td>46.049901</td>\n",
       "      <td>62915.497035</td>\n",
       "      <td>9655.035568</td>\n",
       "      <td>426750.120650</td>\n",
       "      <td>43997.783390</td>\n",
       "    </tr>\n",
       "    <tr>\n",
       "      <th>75%</th>\n",
       "      <td>1.000000</td>\n",
       "      <td>51.612263</td>\n",
       "      <td>70117.862005</td>\n",
       "      <td>11798.867487</td>\n",
       "      <td>557324.478725</td>\n",
       "      <td>51254.709517</td>\n",
       "    </tr>\n",
       "    <tr>\n",
       "      <th>max</th>\n",
       "      <td>1.000000</td>\n",
       "      <td>70.000000</td>\n",
       "      <td>100000.000000</td>\n",
       "      <td>20000.000000</td>\n",
       "      <td>1000000.000000</td>\n",
       "      <td>80000.000000</td>\n",
       "    </tr>\n",
       "  </tbody>\n",
       "</table>\n",
       "</div>"
      ]
     },
     "execution_count": 6,
     "metadata": {},
     "output_type": "execute_result"
    }
   ],
   "execution_count": 6
  },
  {
   "metadata": {
    "ExecuteTime": {
     "end_time": "2025-06-25T15:16:55.285511Z",
     "start_time": "2025-06-25T15:16:55.272005Z"
    }
   },
   "cell_type": "code",
   "source": "df.info()",
   "id": "3b3412ffa4619bd",
   "outputs": [
    {
     "name": "stdout",
     "output_type": "stream",
     "text": [
      "<class 'pandas.core.frame.DataFrame'>\n",
      "RangeIndex: 500 entries, 0 to 499\n",
      "Data columns (total 7 columns):\n",
      " #   Column               Non-Null Count  Dtype  \n",
      "---  ------               --------------  -----  \n",
      " 0   country              500 non-null    object \n",
      " 1   gender               500 non-null    int64  \n",
      " 2   age                  500 non-null    float64\n",
      " 3   annual Salary        500 non-null    float64\n",
      " 4   credit card debt     500 non-null    float64\n",
      " 5   net worth            500 non-null    float64\n",
      " 6   car purchase amount  500 non-null    float64\n",
      "dtypes: float64(5), int64(1), object(1)\n",
      "memory usage: 27.5+ KB\n"
     ]
    }
   ],
   "execution_count": 7
  },
  {
   "metadata": {
    "ExecuteTime": {
     "end_time": "2025-06-25T15:16:55.301417Z",
     "start_time": "2025-06-25T15:16:55.287511Z"
    }
   },
   "cell_type": "code",
   "source": "df.isna().sum()",
   "id": "78d492d63de86640",
   "outputs": [
    {
     "data": {
      "text/plain": [
       "country                0\n",
       "gender                 0\n",
       "age                    0\n",
       "annual Salary          0\n",
       "credit card debt       0\n",
       "net worth              0\n",
       "car purchase amount    0\n",
       "dtype: int64"
      ]
     },
     "execution_count": 8,
     "metadata": {},
     "output_type": "execute_result"
    }
   ],
   "execution_count": 8
  },
  {
   "metadata": {
    "ExecuteTime": {
     "end_time": "2025-06-25T15:16:55.316623Z",
     "start_time": "2025-06-25T15:16:55.302930Z"
    }
   },
   "cell_type": "code",
   "source": "df.duplicated().sum()",
   "id": "1c37c25ca0f1a42",
   "outputs": [
    {
     "data": {
      "text/plain": [
       "0"
      ]
     },
     "execution_count": 9,
     "metadata": {},
     "output_type": "execute_result"
    }
   ],
   "execution_count": 9
  },
  {
   "metadata": {
    "ExecuteTime": {
     "end_time": "2025-06-25T15:16:55.332670Z",
     "start_time": "2025-06-25T15:16:55.317626Z"
    }
   },
   "cell_type": "code",
   "source": "df['country'] = df['country'].replace('Israel', 'Palestine')",
   "id": "206c22825e206978",
   "outputs": [],
   "execution_count": 10
  },
  {
   "metadata": {
    "ExecuteTime": {
     "end_time": "2025-06-25T15:16:55.348257Z",
     "start_time": "2025-06-25T15:16:55.333587Z"
    }
   },
   "cell_type": "code",
   "source": "df['country'].value_counts()",
   "id": "467684fb6962d231",
   "outputs": [
    {
     "data": {
      "text/plain": [
       "country\n",
       "Palestine              6\n",
       "Mauritania             6\n",
       "Bolivia                6\n",
       "Greenland              5\n",
       "Saint Barthélemy       5\n",
       "                      ..\n",
       "El Salvador            1\n",
       "Denmark                1\n",
       "Oman                   1\n",
       "Trinidad and Tobago    1\n",
       "marlal                 1\n",
       "Name: count, Length: 211, dtype: int64"
      ]
     },
     "execution_count": 11,
     "metadata": {},
     "output_type": "execute_result"
    }
   ],
   "execution_count": 11
  },
  {
   "metadata": {
    "ExecuteTime": {
     "end_time": "2025-06-25T15:16:55.363703Z",
     "start_time": "2025-06-25T15:16:55.349952Z"
    }
   },
   "cell_type": "code",
   "source": [
    "x = df.iloc[:, 1:-1].values\n",
    "y = df.iloc[:, -1].values"
   ],
   "id": "c6481c5ac8753119",
   "outputs": [],
   "execution_count": 12
  },
  {
   "metadata": {
    "ExecuteTime": {
     "end_time": "2025-06-25T15:16:55.379372Z",
     "start_time": "2025-06-25T15:16:55.364704Z"
    }
   },
   "cell_type": "code",
   "source": "x",
   "id": "f6126c1927e2d928",
   "outputs": [
    {
     "data": {
      "text/plain": [
       "array([[0.00000000e+00, 4.18517198e+01, 6.28120930e+04, 1.16093809e+04,\n",
       "        2.38961250e+05],\n",
       "       [0.00000000e+00, 4.08706234e+01, 6.66468929e+04, 9.57295714e+03,\n",
       "        5.30973908e+05],\n",
       "       [1.00000000e+00, 4.31528975e+01, 5.37985511e+04, 1.11603551e+04,\n",
       "        6.38467177e+05],\n",
       "       ...,\n",
       "       [1.00000000e+00, 5.39434972e+01, 6.88887780e+04, 1.06116069e+04,\n",
       "        7.64531320e+05],\n",
       "       [1.00000000e+00, 5.91605086e+01, 4.98119906e+04, 1.40130345e+04,\n",
       "        3.37826638e+05],\n",
       "       [1.00000000e+00, 4.67311525e+01, 6.13706777e+04, 9.39134163e+03,\n",
       "        4.62946492e+05]])"
      ]
     },
     "execution_count": 13,
     "metadata": {},
     "output_type": "execute_result"
    }
   ],
   "execution_count": 13
  },
  {
   "metadata": {},
   "cell_type": "markdown",
   "source": "### Splitting data for train and test",
   "id": "10bed5992ebbb872"
  },
  {
   "metadata": {
    "ExecuteTime": {
     "end_time": "2025-06-25T15:16:55.394729Z",
     "start_time": "2025-06-25T15:16:55.382598Z"
    }
   },
   "cell_type": "code",
   "source": [
    "from sklearn.model_selection import train_test_split\n",
    "X_train, X_test, y_train, y_test = train_test_split(x, y, test_size = 0.2, random_state = 0)\n",
    "print(X_train.shape, X_test.shape, y_train.shape, y_test.shape)"
   ],
   "id": "16b8950ecab6785d",
   "outputs": [
    {
     "name": "stdout",
     "output_type": "stream",
     "text": [
      "(400, 5) (100, 5) (400,) (100,)\n"
     ]
    }
   ],
   "execution_count": 14
  },
  {
   "metadata": {
    "ExecuteTime": {
     "end_time": "2025-06-25T15:16:55.410887Z",
     "start_time": "2025-06-25T15:16:55.396726Z"
    }
   },
   "cell_type": "code",
   "source": [
    "from sklearn.preprocessing import StandardScaler\n",
    "sc = StandardScaler()\n",
    "X_train = sc.fit_transform(X_train)\n",
    "X_test = sc.transform(X_test)\n",
    "X_train"
   ],
   "id": "4ba816167cce7eb",
   "outputs": [
    {
     "data": {
      "text/plain": [
       "array([[ 0.98019606,  0.4104977 , -1.6619508 , -0.64933159, -0.24462287],\n",
       "       [-1.02020406,  0.5448837 ,  0.85586707, -0.93240467, -1.49187534],\n",
       "       [-1.02020406,  1.23781276, -0.38457054, -1.14202773, -0.0960339 ],\n",
       "       ...,\n",
       "       [-1.02020406, -1.45388407,  1.9018063 ,  0.90404545, -1.06181584],\n",
       "       [-1.02020406,  0.60686745, -0.37735122, -2.12230328, -1.55376175],\n",
       "       [-1.02020406, -0.7713426 ,  0.78984347, -0.48138186, -0.06728634]])"
      ]
     },
     "execution_count": 15,
     "metadata": {},
     "output_type": "execute_result"
    }
   ],
   "execution_count": 15
  },
  {
   "metadata": {
    "ExecuteTime": {
     "end_time": "2025-06-25T15:16:55.426800Z",
     "start_time": "2025-06-25T15:16:55.412528Z"
    }
   },
   "cell_type": "code",
   "source": [
    "from sklearn.preprocessing import StandardScaler\n",
    "y_scaler = StandardScaler()\n",
    "y_train = y_scaler.fit_transform(y_train.reshape(-1, 1)).flatten()\n",
    "y_test = y_scaler.transform(y_test.reshape(-1, 1)).flatten()\n",
    "y_train"
   ],
   "id": "7bfe3ddea30a1d8a",
   "outputs": [
    {
     "data": {
      "text/plain": [
       "array([-0.87935776,  0.16848993,  0.49695953, -0.83295546, -1.41349565,\n",
       "       -0.62391323,  0.73691949,  0.27610647,  1.7736841 , -1.14146817,\n",
       "        0.80861937,  0.3158527 , -0.43388983,  0.36991506,  0.65327469,\n",
       "       -0.80158534,  1.08814305,  1.2526457 ,  1.03442917,  1.57070988,\n",
       "       -1.12050016,  0.43725512, -1.02053968,  0.45795028, -0.96120007,\n",
       "        0.03555853, -1.05732602,  0.02872784,  0.36591186,  0.21938971,\n",
       "        0.31667132, -0.19089914, -0.12210187,  0.37801337,  0.06372127,\n",
       "       -0.25244513, -0.36926774,  0.16538912, -3.27518294, -0.42345637,\n",
       "        1.13752893,  0.3935664 ,  0.83500858, -0.64400851, -0.19338213,\n",
       "        1.10819611, -0.41559742,  0.12257828, -0.92635052,  1.17327441,\n",
       "       -1.3667683 , -0.74080959,  0.42681919,  0.3462816 ,  1.43527327,\n",
       "        0.29771554,  0.80851531,  0.66117259,  1.54281354,  0.50972768,\n",
       "       -0.76078924, -1.53498119, -0.16414911, -1.35601994,  0.03534675,\n",
       "       -0.24270862, -0.0758493 ,  0.03820459,  0.09836702,  0.37356233,\n",
       "       -1.03589284,  1.22124375, -0.70416377,  0.46816282, -1.17377777,\n",
       "        0.16358965,  1.36291338,  1.83910352,  1.12278555,  0.11371174,\n",
       "       -1.75664814, -0.14672259, -0.8642946 , -2.10998888, -0.37006138,\n",
       "       -0.78438284, -0.10733981, -0.45962378,  0.83429546, -2.91120072,\n",
       "       -0.3888118 ,  0.35648073,  1.55245084, -1.34387729, -0.80325354,\n",
       "       -0.14544204, -1.24233377, -1.68946864,  0.05415215,  0.48263147,\n",
       "        0.17964296, -0.43174607, -1.51771724,  0.84615999, -0.80496737,\n",
       "       -1.39794627,  0.80351078, -0.36992777,  0.3783704 , -0.65118196,\n",
       "       -0.65032761,  1.75744813, -1.9968805 , -1.3580108 , -0.1054552 ,\n",
       "        0.55472178, -0.01426581, -0.51854499,  0.19441889,  0.39667443,\n",
       "       -2.47311427, -1.29064226,  2.06523603, -1.16916561,  0.09890143,\n",
       "        0.72989453, -0.26056819,  1.56113161, -0.15382306, -0.7419957 ,\n",
       "        0.74763974, -0.17197957, -1.1963346 ,  1.23814673,  0.36715943,\n",
       "       -0.17889828, -1.04889542,  0.33998157,  1.17027577,  0.46948312,\n",
       "       -0.44129524,  1.90014213,  0.83784274,  0.46951347, -2.2917892 ,\n",
       "       -0.22186295,  0.26920659,  0.1868818 , -0.37156067,  0.88153141,\n",
       "        0.40449185, -0.01862455, -0.39652786,  2.30065898, -0.42520756,\n",
       "       -2.2891754 ,  0.32041874,  0.19942334, -0.25547214,  1.16878866,\n",
       "        0.09385159,  0.7061308 ,  2.15245781, -0.00560965,  0.18951726,\n",
       "       -0.03856314, -0.48143264,  0.24188145,  0.47066758, -2.00456599,\n",
       "        0.34210486, -1.64019688,  0.1438176 ,  0.21899881, -0.99280227,\n",
       "       -0.06059114,  1.53291488, -1.85296967, -1.09905362,  0.03453944,\n",
       "        0.35044787,  0.73508836,  0.21732595, -0.58953901,  0.04397079,\n",
       "       -0.09942108,  0.49347834, -0.0348954 ,  0.09567397,  0.07402438,\n",
       "        1.15886191, -0.00496989,  1.38149027, -2.18640641, -0.43118108,\n",
       "        1.78319977,  0.16362385,  0.7532917 , -0.44695926, -0.26470535,\n",
       "       -0.77298055,  3.35844904,  0.48626164,  0.2203186 ,  1.65161687,\n",
       "        1.88113627,  0.68217194,  0.22413718, -0.15606308,  1.87730747,\n",
       "        0.04170961,  0.47538959, -0.47872844, -0.15861953, -0.20925645,\n",
       "       -0.87597276,  1.02014282,  1.52626476, -1.06083186,  0.49944432,\n",
       "        0.68682872, -0.32369671,  1.46727834,  0.45286623,  2.48009709,\n",
       "       -1.19954359, -0.76665825,  1.00654846, -1.20598394, -0.55184328,\n",
       "        2.13346359,  0.21817197, -1.25074708,  2.18330236,  0.58322472,\n",
       "        0.28861345,  0.71715862, -0.23162144,  0.03553377,  0.96541557,\n",
       "       -1.1815128 , -0.76901969, -0.49974061,  0.26934174,  0.60594974,\n",
       "       -1.06941111, -0.10699102, -0.52834903,  0.50338252, -0.25480943,\n",
       "       -0.16496156, -0.38110374,  0.10398222, -0.65192484, -0.47423231,\n",
       "        0.84042004, -0.55186117, -0.23235741, -2.9447217 , -1.57592306,\n",
       "       -0.17239132, -0.57765777, -0.21349243, -1.24430307,  0.68655429,\n",
       "        0.26514592,  0.5303293 ,  0.78701361,  0.70048164, -0.10053724,\n",
       "        0.24115535, -1.5172015 , -1.86113626, -0.81593124, -0.07384357,\n",
       "        0.82548193, -0.77267572,  0.78672244, -0.24542588, -2.05206094,\n",
       "       -1.0745424 , -1.40168688, -1.33604499,  0.40126603,  0.93625033,\n",
       "        1.62101915, -0.37835327, -0.12606581, -0.5486383 ,  0.49878276,\n",
       "       -0.37673666, -0.57658012, -1.43143614,  1.18751798,  1.00868461,\n",
       "       -0.28217383, -1.40636206,  1.51058328, -0.69221848,  0.76486045,\n",
       "       -0.49437254, -0.56167236, -0.54290533,  0.03515201,  0.12965981,\n",
       "       -0.04255148, -0.27249329,  0.71280792, -0.47204578, -0.20002389,\n",
       "        0.08981373,  1.06195728, -1.35453222,  0.1829113 ,  1.23791714,\n",
       "        0.6695897 , -1.27623371, -0.57054362, -0.89070279,  0.98586868,\n",
       "        0.91510071, -0.24566851,  0.61781367, -1.00844281, -0.71822758,\n",
       "        2.11097593, -1.49706967,  0.1573324 ,  1.03901265, -1.5386475 ,\n",
       "        0.88279416, -1.43968554, -0.75921226, -1.63079821,  0.21738983,\n",
       "        1.67936578, -0.85321321,  0.80453484,  1.07343237,  1.33568816,\n",
       "        1.30721442,  1.57959244,  1.0780403 ,  0.33167655,  0.77170479,\n",
       "       -0.31710786,  0.05568147,  2.08440799, -0.63550643, -0.69290557,\n",
       "        2.39325316, -1.56509138,  0.33221577,  0.51518812, -0.1060335 ,\n",
       "        0.44200155,  0.3626578 ,  0.59676754, -1.45666679,  1.91448146,\n",
       "       -0.17441007, -0.43273761,  0.48525541, -1.10679111, -0.38706667,\n",
       "       -1.15456993, -0.11965212,  0.79565886,  2.15513612,  1.85130098,\n",
       "       -0.5026368 , -0.2009475 , -0.38921687,  0.03112987, -0.29666433,\n",
       "       -1.23593822,  1.05796872, -0.27565347, -0.23962909,  1.00614373,\n",
       "        0.10782225, -0.11101404,  2.01230947,  0.64313889, -0.62507175,\n",
       "       -1.23454679, -0.75066968, -0.38770158,  1.16272639,  1.44160146,\n",
       "        0.36718747, -0.54796547, -0.46439696,  0.59802841, -1.85651306,\n",
       "       -2.00168819, -0.5769154 , -0.24317227, -0.58029646, -0.030824  ])"
      ]
     },
     "execution_count": 16,
     "metadata": {},
     "output_type": "execute_result"
    }
   ],
   "execution_count": 16
  },
  {
   "metadata": {},
   "cell_type": "markdown",
   "source": "### Building architucture of ANN",
   "id": "6b70ffed1fc84a0c"
  },
  {
   "metadata": {
    "ExecuteTime": {
     "end_time": "2025-06-25T15:16:55.520031Z",
     "start_time": "2025-06-25T15:16:55.427801Z"
    }
   },
   "cell_type": "code",
   "source": [
    "model = Sequential()\n",
    "model.add(Dense(64, activation='relu', input_dim=5))\n",
    "model.add(Dense(64, activation='relu'))\n",
    "model.add(Dense(1, activation='linear'))\n",
    "model.compile(optimizer='adam', loss='mean_squared_error', metrics=['mae'])"
   ],
   "id": "153149ba52bbe0ca",
   "outputs": [
    {
     "name": "stderr",
     "output_type": "stream",
     "text": [
      "C:\\Users\\DRT\\.conda\\envs\\DST_7\\lib\\site-packages\\keras\\src\\layers\\core\\dense.py:87: UserWarning: Do not pass an `input_shape`/`input_dim` argument to a layer. When using Sequential models, prefer using an `Input(shape)` object as the first layer in the model instead.\n",
      "  super().__init__(activity_regularizer=activity_regularizer, **kwargs)\n"
     ]
    }
   ],
   "execution_count": 17
  },
  {
   "metadata": {},
   "cell_type": "markdown",
   "source": "### Train the ANN",
   "id": "b0c4e43099ce480d"
  },
  {
   "metadata": {
    "ExecuteTime": {
     "end_time": "2025-06-25T15:17:04.060874Z",
     "start_time": "2025-06-25T15:16:55.521168Z"
    }
   },
   "cell_type": "code",
   "source": [
    "from keras.callbacks import EarlyStopping\n",
    "\n",
    "early_stop = EarlyStopping(monitor='val_loss', patience=10, restore_best_weights=True)\n",
    "\n",
    "history = model.fit(X_train, y_train,\n",
    "                    batch_size=32,\n",
    "                    epochs=200,\n",
    "                    validation_split=0.2,\n",
    "                    callbacks=[early_stop])"
   ],
   "id": "dd80629f099b7d01",
   "outputs": [
    {
     "name": "stdout",
     "output_type": "stream",
     "text": [
      "Epoch 1/200\n",
      "\u001B[1m10/10\u001B[0m \u001B[32m━━━━━━━━━━━━━━━━━━━━\u001B[0m\u001B[37m\u001B[0m \u001B[1m1s\u001B[0m 21ms/step - loss: 0.8170 - mae: 0.7139 - val_loss: 0.6596 - val_mae: 0.6500\n",
      "Epoch 2/200\n",
      "\u001B[1m10/10\u001B[0m \u001B[32m━━━━━━━━━━━━━━━━━━━━\u001B[0m\u001B[37m\u001B[0m \u001B[1m0s\u001B[0m 8ms/step - loss: 0.4404 - mae: 0.5043 - val_loss: 0.3217 - val_mae: 0.4440\n",
      "Epoch 3/200\n",
      "\u001B[1m10/10\u001B[0m \u001B[32m━━━━━━━━━━━━━━━━━━━━\u001B[0m\u001B[37m\u001B[0m \u001B[1m0s\u001B[0m 8ms/step - loss: 0.2289 - mae: 0.3569 - val_loss: 0.1021 - val_mae: 0.2441\n",
      "Epoch 4/200\n",
      "\u001B[1m10/10\u001B[0m \u001B[32m━━━━━━━━━━━━━━━━━━━━\u001B[0m\u001B[37m\u001B[0m \u001B[1m0s\u001B[0m 8ms/step - loss: 0.0649 - mae: 0.1838 - val_loss: 0.0332 - val_mae: 0.1349\n",
      "Epoch 5/200\n",
      "\u001B[1m10/10\u001B[0m \u001B[32m━━━━━━━━━━━━━━━━━━━━\u001B[0m\u001B[37m\u001B[0m \u001B[1m0s\u001B[0m 8ms/step - loss: 0.0251 - mae: 0.1211 - val_loss: 0.0275 - val_mae: 0.1288\n",
      "Epoch 6/200\n",
      "\u001B[1m10/10\u001B[0m \u001B[32m━━━━━━━━━━━━━━━━━━━━\u001B[0m\u001B[37m\u001B[0m \u001B[1m0s\u001B[0m 7ms/step - loss: 0.0223 - mae: 0.1168 - val_loss: 0.0155 - val_mae: 0.0979\n",
      "Epoch 7/200\n",
      "\u001B[1m10/10\u001B[0m \u001B[32m━━━━━━━━━━━━━━━━━━━━\u001B[0m\u001B[37m\u001B[0m \u001B[1m0s\u001B[0m 8ms/step - loss: 0.0126 - mae: 0.0844 - val_loss: 0.0101 - val_mae: 0.0763\n",
      "Epoch 8/200\n",
      "\u001B[1m10/10\u001B[0m \u001B[32m━━━━━━━━━━━━━━━━━━━━\u001B[0m\u001B[37m\u001B[0m \u001B[1m0s\u001B[0m 8ms/step - loss: 0.0067 - mae: 0.0629 - val_loss: 0.0083 - val_mae: 0.0670\n",
      "Epoch 9/200\n",
      "\u001B[1m10/10\u001B[0m \u001B[32m━━━━━━━━━━━━━━━━━━━━\u001B[0m\u001B[37m\u001B[0m \u001B[1m0s\u001B[0m 8ms/step - loss: 0.0041 - mae: 0.0492 - val_loss: 0.0066 - val_mae: 0.0594\n",
      "Epoch 10/200\n",
      "\u001B[1m10/10\u001B[0m \u001B[32m━━━━━━━━━━━━━━━━━━━━\u001B[0m\u001B[37m\u001B[0m \u001B[1m0s\u001B[0m 8ms/step - loss: 0.0038 - mae: 0.0479 - val_loss: 0.0054 - val_mae: 0.0554\n",
      "Epoch 11/200\n",
      "\u001B[1m10/10\u001B[0m \u001B[32m━━━━━━━━━━━━━━━━━━━━\u001B[0m\u001B[37m\u001B[0m \u001B[1m0s\u001B[0m 7ms/step - loss: 0.0037 - mae: 0.0460 - val_loss: 0.0046 - val_mae: 0.0517\n",
      "Epoch 12/200\n",
      "\u001B[1m10/10\u001B[0m \u001B[32m━━━━━━━━━━━━━━━━━━━━\u001B[0m\u001B[37m\u001B[0m \u001B[1m0s\u001B[0m 7ms/step - loss: 0.0029 - mae: 0.0418 - val_loss: 0.0042 - val_mae: 0.0495\n",
      "Epoch 13/200\n",
      "\u001B[1m10/10\u001B[0m \u001B[32m━━━━━━━━━━━━━━━━━━━━\u001B[0m\u001B[37m\u001B[0m \u001B[1m0s\u001B[0m 7ms/step - loss: 0.0025 - mae: 0.0376 - val_loss: 0.0040 - val_mae: 0.0485\n",
      "Epoch 14/200\n",
      "\u001B[1m10/10\u001B[0m \u001B[32m━━━━━━━━━━━━━━━━━━━━\u001B[0m\u001B[37m\u001B[0m \u001B[1m0s\u001B[0m 7ms/step - loss: 0.0021 - mae: 0.0350 - val_loss: 0.0037 - val_mae: 0.0465\n",
      "Epoch 15/200\n",
      "\u001B[1m10/10\u001B[0m \u001B[32m━━━━━━━━━━━━━━━━━━━━\u001B[0m\u001B[37m\u001B[0m \u001B[1m0s\u001B[0m 9ms/step - loss: 0.0020 - mae: 0.0341 - val_loss: 0.0034 - val_mae: 0.0456\n",
      "Epoch 16/200\n",
      "\u001B[1m10/10\u001B[0m \u001B[32m━━━━━━━━━━━━━━━━━━━━\u001B[0m\u001B[37m\u001B[0m \u001B[1m0s\u001B[0m 8ms/step - loss: 0.0018 - mae: 0.0319 - val_loss: 0.0035 - val_mae: 0.0446\n",
      "Epoch 17/200\n",
      "\u001B[1m10/10\u001B[0m \u001B[32m━━━━━━━━━━━━━━━━━━━━\u001B[0m\u001B[37m\u001B[0m \u001B[1m0s\u001B[0m 8ms/step - loss: 0.0015 - mae: 0.0308 - val_loss: 0.0032 - val_mae: 0.0431\n",
      "Epoch 18/200\n",
      "\u001B[1m10/10\u001B[0m \u001B[32m━━━━━━━━━━━━━━━━━━━━\u001B[0m\u001B[37m\u001B[0m \u001B[1m0s\u001B[0m 8ms/step - loss: 0.0015 - mae: 0.0295 - val_loss: 0.0032 - val_mae: 0.0430\n",
      "Epoch 19/200\n",
      "\u001B[1m10/10\u001B[0m \u001B[32m━━━━━━━━━━━━━━━━━━━━\u001B[0m\u001B[37m\u001B[0m \u001B[1m0s\u001B[0m 7ms/step - loss: 0.0016 - mae: 0.0301 - val_loss: 0.0031 - val_mae: 0.0420\n",
      "Epoch 20/200\n",
      "\u001B[1m10/10\u001B[0m \u001B[32m━━━━━━━━━━━━━━━━━━━━\u001B[0m\u001B[37m\u001B[0m \u001B[1m0s\u001B[0m 8ms/step - loss: 0.0013 - mae: 0.0278 - val_loss: 0.0029 - val_mae: 0.0411\n",
      "Epoch 21/200\n",
      "\u001B[1m10/10\u001B[0m \u001B[32m━━━━━━━━━━━━━━━━━━━━\u001B[0m\u001B[37m\u001B[0m \u001B[1m0s\u001B[0m 7ms/step - loss: 0.0012 - mae: 0.0266 - val_loss: 0.0028 - val_mae: 0.0405\n",
      "Epoch 22/200\n",
      "\u001B[1m10/10\u001B[0m \u001B[32m━━━━━━━━━━━━━━━━━━━━\u001B[0m\u001B[37m\u001B[0m \u001B[1m0s\u001B[0m 8ms/step - loss: 0.0012 - mae: 0.0274 - val_loss: 0.0027 - val_mae: 0.0394\n",
      "Epoch 23/200\n",
      "\u001B[1m10/10\u001B[0m \u001B[32m━━━━━━━━━━━━━━━━━━━━\u001B[0m\u001B[37m\u001B[0m \u001B[1m0s\u001B[0m 7ms/step - loss: 0.0012 - mae: 0.0275 - val_loss: 0.0027 - val_mae: 0.0389\n",
      "Epoch 24/200\n",
      "\u001B[1m10/10\u001B[0m \u001B[32m━━━━━━━━━━━━━━━━━━━━\u001B[0m\u001B[37m\u001B[0m \u001B[1m0s\u001B[0m 7ms/step - loss: 0.0011 - mae: 0.0253 - val_loss: 0.0025 - val_mae: 0.0387\n",
      "Epoch 25/200\n",
      "\u001B[1m10/10\u001B[0m \u001B[32m━━━━━━━━━━━━━━━━━━━━\u001B[0m\u001B[37m\u001B[0m \u001B[1m0s\u001B[0m 7ms/step - loss: 0.0010 - mae: 0.0244 - val_loss: 0.0027 - val_mae: 0.0391\n",
      "Epoch 26/200\n",
      "\u001B[1m10/10\u001B[0m \u001B[32m━━━━━━━━━━━━━━━━━━━━\u001B[0m\u001B[37m\u001B[0m \u001B[1m0s\u001B[0m 8ms/step - loss: 9.0938e-04 - mae: 0.0235 - val_loss: 0.0024 - val_mae: 0.0373\n",
      "Epoch 27/200\n",
      "\u001B[1m10/10\u001B[0m \u001B[32m━━━━━━━━━━━━━━━━━━━━\u001B[0m\u001B[37m\u001B[0m \u001B[1m0s\u001B[0m 7ms/step - loss: 9.4156e-04 - mae: 0.0239 - val_loss: 0.0025 - val_mae: 0.0373\n",
      "Epoch 28/200\n",
      "\u001B[1m10/10\u001B[0m \u001B[32m━━━━━━━━━━━━━━━━━━━━\u001B[0m\u001B[37m\u001B[0m \u001B[1m0s\u001B[0m 8ms/step - loss: 9.3787e-04 - mae: 0.0241 - val_loss: 0.0023 - val_mae: 0.0366\n",
      "Epoch 29/200\n",
      "\u001B[1m10/10\u001B[0m \u001B[32m━━━━━━━━━━━━━━━━━━━━\u001B[0m\u001B[37m\u001B[0m \u001B[1m0s\u001B[0m 8ms/step - loss: 7.5378e-04 - mae: 0.0210 - val_loss: 0.0024 - val_mae: 0.0366\n",
      "Epoch 30/200\n",
      "\u001B[1m10/10\u001B[0m \u001B[32m━━━━━━━━━━━━━━━━━━━━\u001B[0m\u001B[37m\u001B[0m \u001B[1m0s\u001B[0m 7ms/step - loss: 8.1646e-04 - mae: 0.0222 - val_loss: 0.0023 - val_mae: 0.0359\n",
      "Epoch 31/200\n",
      "\u001B[1m10/10\u001B[0m \u001B[32m━━━━━━━━━━━━━━━━━━━━\u001B[0m\u001B[37m\u001B[0m \u001B[1m0s\u001B[0m 7ms/step - loss: 8.2915e-04 - mae: 0.0223 - val_loss: 0.0022 - val_mae: 0.0359\n",
      "Epoch 32/200\n",
      "\u001B[1m10/10\u001B[0m \u001B[32m━━━━━━━━━━━━━━━━━━━━\u001B[0m\u001B[37m\u001B[0m \u001B[1m0s\u001B[0m 7ms/step - loss: 7.5279e-04 - mae: 0.0217 - val_loss: 0.0023 - val_mae: 0.0356\n",
      "Epoch 33/200\n",
      "\u001B[1m10/10\u001B[0m \u001B[32m━━━━━━━━━━━━━━━━━━━━\u001B[0m\u001B[37m\u001B[0m \u001B[1m0s\u001B[0m 7ms/step - loss: 6.6321e-04 - mae: 0.0197 - val_loss: 0.0022 - val_mae: 0.0361\n",
      "Epoch 34/200\n",
      "\u001B[1m10/10\u001B[0m \u001B[32m━━━━━━━━━━━━━━━━━━━━\u001B[0m\u001B[37m\u001B[0m \u001B[1m0s\u001B[0m 8ms/step - loss: 6.5185e-04 - mae: 0.0197 - val_loss: 0.0022 - val_mae: 0.0352\n",
      "Epoch 35/200\n",
      "\u001B[1m10/10\u001B[0m \u001B[32m━━━━━━━━━━━━━━━━━━━━\u001B[0m\u001B[37m\u001B[0m \u001B[1m0s\u001B[0m 7ms/step - loss: 6.5909e-04 - mae: 0.0205 - val_loss: 0.0022 - val_mae: 0.0351\n",
      "Epoch 36/200\n",
      "\u001B[1m10/10\u001B[0m \u001B[32m━━━━━━━━━━━━━━━━━━━━\u001B[0m\u001B[37m\u001B[0m \u001B[1m0s\u001B[0m 8ms/step - loss: 6.4790e-04 - mae: 0.0198 - val_loss: 0.0022 - val_mae: 0.0349\n",
      "Epoch 37/200\n",
      "\u001B[1m10/10\u001B[0m \u001B[32m━━━━━━━━━━━━━━━━━━━━\u001B[0m\u001B[37m\u001B[0m \u001B[1m0s\u001B[0m 8ms/step - loss: 6.6822e-04 - mae: 0.0205 - val_loss: 0.0021 - val_mae: 0.0364\n",
      "Epoch 38/200\n",
      "\u001B[1m10/10\u001B[0m \u001B[32m━━━━━━━━━━━━━━━━━━━━\u001B[0m\u001B[37m\u001B[0m \u001B[1m0s\u001B[0m 8ms/step - loss: 6.3194e-04 - mae: 0.0198 - val_loss: 0.0023 - val_mae: 0.0348\n",
      "Epoch 39/200\n",
      "\u001B[1m10/10\u001B[0m \u001B[32m━━━━━━━━━━━━━━━━━━━━\u001B[0m\u001B[37m\u001B[0m \u001B[1m0s\u001B[0m 8ms/step - loss: 6.1726e-04 - mae: 0.0195 - val_loss: 0.0021 - val_mae: 0.0345\n",
      "Epoch 40/200\n",
      "\u001B[1m10/10\u001B[0m \u001B[32m━━━━━━━━━━━━━━━━━━━━\u001B[0m\u001B[37m\u001B[0m \u001B[1m0s\u001B[0m 8ms/step - loss: 4.6449e-04 - mae: 0.0166 - val_loss: 0.0021 - val_mae: 0.0345\n",
      "Epoch 41/200\n",
      "\u001B[1m10/10\u001B[0m \u001B[32m━━━━━━━━━━━━━━━━━━━━\u001B[0m\u001B[37m\u001B[0m \u001B[1m0s\u001B[0m 8ms/step - loss: 4.7918e-04 - mae: 0.0175 - val_loss: 0.0021 - val_mae: 0.0341\n",
      "Epoch 42/200\n",
      "\u001B[1m10/10\u001B[0m \u001B[32m━━━━━━━━━━━━━━━━━━━━\u001B[0m\u001B[37m\u001B[0m \u001B[1m0s\u001B[0m 8ms/step - loss: 4.9200e-04 - mae: 0.0176 - val_loss: 0.0020 - val_mae: 0.0335\n",
      "Epoch 43/200\n",
      "\u001B[1m10/10\u001B[0m \u001B[32m━━━━━━━━━━━━━━━━━━━━\u001B[0m\u001B[37m\u001B[0m \u001B[1m0s\u001B[0m 8ms/step - loss: 4.3093e-04 - mae: 0.0165 - val_loss: 0.0019 - val_mae: 0.0335\n",
      "Epoch 44/200\n",
      "\u001B[1m10/10\u001B[0m \u001B[32m━━━━━━━━━━━━━━━━━━━━\u001B[0m\u001B[37m\u001B[0m \u001B[1m0s\u001B[0m 8ms/step - loss: 4.1858e-04 - mae: 0.0161 - val_loss: 0.0020 - val_mae: 0.0332\n",
      "Epoch 45/200\n",
      "\u001B[1m10/10\u001B[0m \u001B[32m━━━━━━━━━━━━━━━━━━━━\u001B[0m\u001B[37m\u001B[0m \u001B[1m0s\u001B[0m 7ms/step - loss: 4.5958e-04 - mae: 0.0166 - val_loss: 0.0019 - val_mae: 0.0332\n",
      "Epoch 46/200\n",
      "\u001B[1m10/10\u001B[0m \u001B[32m━━━━━━━━━━━━━━━━━━━━\u001B[0m\u001B[37m\u001B[0m \u001B[1m0s\u001B[0m 8ms/step - loss: 4.1134e-04 - mae: 0.0159 - val_loss: 0.0019 - val_mae: 0.0333\n",
      "Epoch 47/200\n",
      "\u001B[1m10/10\u001B[0m \u001B[32m━━━━━━━━━━━━━━━━━━━━\u001B[0m\u001B[37m\u001B[0m \u001B[1m0s\u001B[0m 7ms/step - loss: 4.4406e-04 - mae: 0.0166 - val_loss: 0.0019 - val_mae: 0.0333\n",
      "Epoch 48/200\n",
      "\u001B[1m10/10\u001B[0m \u001B[32m━━━━━━━━━━━━━━━━━━━━\u001B[0m\u001B[37m\u001B[0m \u001B[1m0s\u001B[0m 8ms/step - loss: 4.0446e-04 - mae: 0.0160 - val_loss: 0.0020 - val_mae: 0.0331\n",
      "Epoch 49/200\n",
      "\u001B[1m10/10\u001B[0m \u001B[32m━━━━━━━━━━━━━━━━━━━━\u001B[0m\u001B[37m\u001B[0m \u001B[1m0s\u001B[0m 8ms/step - loss: 4.2852e-04 - mae: 0.0158 - val_loss: 0.0019 - val_mae: 0.0328\n",
      "Epoch 50/200\n",
      "\u001B[1m10/10\u001B[0m \u001B[32m━━━━━━━━━━━━━━━━━━━━\u001B[0m\u001B[37m\u001B[0m \u001B[1m0s\u001B[0m 8ms/step - loss: 3.9262e-04 - mae: 0.0158 - val_loss: 0.0019 - val_mae: 0.0330\n",
      "Epoch 51/200\n",
      "\u001B[1m10/10\u001B[0m \u001B[32m━━━━━━━━━━━━━━━━━━━━\u001B[0m\u001B[37m\u001B[0m \u001B[1m0s\u001B[0m 8ms/step - loss: 3.6911e-04 - mae: 0.0149 - val_loss: 0.0018 - val_mae: 0.0323\n",
      "Epoch 52/200\n",
      "\u001B[1m10/10\u001B[0m \u001B[32m━━━━━━━━━━━━━━━━━━━━\u001B[0m\u001B[37m\u001B[0m \u001B[1m0s\u001B[0m 8ms/step - loss: 3.4975e-04 - mae: 0.0147 - val_loss: 0.0019 - val_mae: 0.0328\n",
      "Epoch 53/200\n",
      "\u001B[1m10/10\u001B[0m \u001B[32m━━━━━━━━━━━━━━━━━━━━\u001B[0m\u001B[37m\u001B[0m \u001B[1m0s\u001B[0m 7ms/step - loss: 3.9605e-04 - mae: 0.0153 - val_loss: 0.0018 - val_mae: 0.0325\n",
      "Epoch 54/200\n",
      "\u001B[1m10/10\u001B[0m \u001B[32m━━━━━━━━━━━━━━━━━━━━\u001B[0m\u001B[37m\u001B[0m \u001B[1m0s\u001B[0m 8ms/step - loss: 3.1052e-04 - mae: 0.0139 - val_loss: 0.0018 - val_mae: 0.0329\n",
      "Epoch 55/200\n",
      "\u001B[1m10/10\u001B[0m \u001B[32m━━━━━━━━━━━━━━━━━━━━\u001B[0m\u001B[37m\u001B[0m \u001B[1m0s\u001B[0m 7ms/step - loss: 3.2732e-04 - mae: 0.0139 - val_loss: 0.0018 - val_mae: 0.0322\n",
      "Epoch 56/200\n",
      "\u001B[1m10/10\u001B[0m \u001B[32m━━━━━━━━━━━━━━━━━━━━\u001B[0m\u001B[37m\u001B[0m \u001B[1m0s\u001B[0m 8ms/step - loss: 3.5411e-04 - mae: 0.0147 - val_loss: 0.0019 - val_mae: 0.0323\n",
      "Epoch 57/200\n",
      "\u001B[1m10/10\u001B[0m \u001B[32m━━━━━━━━━━━━━━━━━━━━\u001B[0m\u001B[37m\u001B[0m \u001B[1m0s\u001B[0m 7ms/step - loss: 3.3945e-04 - mae: 0.0148 - val_loss: 0.0018 - val_mae: 0.0323\n",
      "Epoch 58/200\n",
      "\u001B[1m10/10\u001B[0m \u001B[32m━━━━━━━━━━━━━━━━━━━━\u001B[0m\u001B[37m\u001B[0m \u001B[1m0s\u001B[0m 7ms/step - loss: 3.1088e-04 - mae: 0.0137 - val_loss: 0.0018 - val_mae: 0.0324\n",
      "Epoch 59/200\n",
      "\u001B[1m10/10\u001B[0m \u001B[32m━━━━━━━━━━━━━━━━━━━━\u001B[0m\u001B[37m\u001B[0m \u001B[1m0s\u001B[0m 7ms/step - loss: 2.6163e-04 - mae: 0.0125 - val_loss: 0.0017 - val_mae: 0.0315\n",
      "Epoch 60/200\n",
      "\u001B[1m10/10\u001B[0m \u001B[32m━━━━━━━━━━━━━━━━━━━━\u001B[0m\u001B[37m\u001B[0m \u001B[1m0s\u001B[0m 7ms/step - loss: 2.9828e-04 - mae: 0.0133 - val_loss: 0.0018 - val_mae: 0.0323\n",
      "Epoch 61/200\n",
      "\u001B[1m10/10\u001B[0m \u001B[32m━━━━━━━━━━━━━━━━━━━━\u001B[0m\u001B[37m\u001B[0m \u001B[1m0s\u001B[0m 7ms/step - loss: 2.8368e-04 - mae: 0.0131 - val_loss: 0.0018 - val_mae: 0.0318\n",
      "Epoch 62/200\n",
      "\u001B[1m10/10\u001B[0m \u001B[32m━━━━━━━━━━━━━━━━━━━━\u001B[0m\u001B[37m\u001B[0m \u001B[1m0s\u001B[0m 7ms/step - loss: 2.4595e-04 - mae: 0.0121 - val_loss: 0.0018 - val_mae: 0.0322\n",
      "Epoch 63/200\n",
      "\u001B[1m10/10\u001B[0m \u001B[32m━━━━━━━━━━━━━━━━━━━━\u001B[0m\u001B[37m\u001B[0m \u001B[1m0s\u001B[0m 7ms/step - loss: 2.8465e-04 - mae: 0.0132 - val_loss: 0.0018 - val_mae: 0.0318\n",
      "Epoch 64/200\n",
      "\u001B[1m10/10\u001B[0m \u001B[32m━━━━━━━━━━━━━━━━━━━━\u001B[0m\u001B[37m\u001B[0m \u001B[1m0s\u001B[0m 7ms/step - loss: 2.4687e-04 - mae: 0.0124 - val_loss: 0.0017 - val_mae: 0.0317\n",
      "Epoch 65/200\n",
      "\u001B[1m10/10\u001B[0m \u001B[32m━━━━━━━━━━━━━━━━━━━━\u001B[0m\u001B[37m\u001B[0m \u001B[1m0s\u001B[0m 7ms/step - loss: 2.5315e-04 - mae: 0.0125 - val_loss: 0.0018 - val_mae: 0.0318\n",
      "Epoch 66/200\n",
      "\u001B[1m10/10\u001B[0m \u001B[32m━━━━━━━━━━━━━━━━━━━━\u001B[0m\u001B[37m\u001B[0m \u001B[1m0s\u001B[0m 8ms/step - loss: 2.5101e-04 - mae: 0.0123 - val_loss: 0.0017 - val_mae: 0.0319\n",
      "Epoch 67/200\n",
      "\u001B[1m10/10\u001B[0m \u001B[32m━━━━━━━━━━━━━━━━━━━━\u001B[0m\u001B[37m\u001B[0m \u001B[1m0s\u001B[0m 7ms/step - loss: 2.6470e-04 - mae: 0.0129 - val_loss: 0.0019 - val_mae: 0.0325\n",
      "Epoch 68/200\n",
      "\u001B[1m10/10\u001B[0m \u001B[32m━━━━━━━━━━━━━━━━━━━━\u001B[0m\u001B[37m\u001B[0m \u001B[1m0s\u001B[0m 7ms/step - loss: 2.5202e-04 - mae: 0.0128 - val_loss: 0.0017 - val_mae: 0.0316\n",
      "Epoch 69/200\n",
      "\u001B[1m10/10\u001B[0m \u001B[32m━━━━━━━━━━━━━━━━━━━━\u001B[0m\u001B[37m\u001B[0m \u001B[1m0s\u001B[0m 7ms/step - loss: 2.0778e-04 - mae: 0.0111 - val_loss: 0.0017 - val_mae: 0.0313\n",
      "Epoch 70/200\n",
      "\u001B[1m10/10\u001B[0m \u001B[32m━━━━━━━━━━━━━━━━━━━━\u001B[0m\u001B[37m\u001B[0m \u001B[1m0s\u001B[0m 9ms/step - loss: 1.9840e-04 - mae: 0.0109 - val_loss: 0.0017 - val_mae: 0.0313\n",
      "Epoch 71/200\n",
      "\u001B[1m10/10\u001B[0m \u001B[32m━━━━━━━━━━━━━━━━━━━━\u001B[0m\u001B[37m\u001B[0m \u001B[1m0s\u001B[0m 8ms/step - loss: 2.0299e-04 - mae: 0.0111 - val_loss: 0.0018 - val_mae: 0.0319\n",
      "Epoch 72/200\n",
      "\u001B[1m10/10\u001B[0m \u001B[32m━━━━━━━━━━━━━━━━━━━━\u001B[0m\u001B[37m\u001B[0m \u001B[1m0s\u001B[0m 7ms/step - loss: 1.9454e-04 - mae: 0.0108 - val_loss: 0.0016 - val_mae: 0.0312\n",
      "Epoch 73/200\n",
      "\u001B[1m10/10\u001B[0m \u001B[32m━━━━━━━━━━━━━━━━━━━━\u001B[0m\u001B[37m\u001B[0m \u001B[1m0s\u001B[0m 7ms/step - loss: 1.9851e-04 - mae: 0.0111 - val_loss: 0.0017 - val_mae: 0.0319\n",
      "Epoch 74/200\n",
      "\u001B[1m10/10\u001B[0m \u001B[32m━━━━━━━━━━━━━━━━━━━━\u001B[0m\u001B[37m\u001B[0m \u001B[1m0s\u001B[0m 7ms/step - loss: 2.0928e-04 - mae: 0.0114 - val_loss: 0.0017 - val_mae: 0.0312\n",
      "Epoch 75/200\n",
      "\u001B[1m10/10\u001B[0m \u001B[32m━━━━━━━━━━━━━━━━━━━━\u001B[0m\u001B[37m\u001B[0m \u001B[1m0s\u001B[0m 7ms/step - loss: 1.8113e-04 - mae: 0.0102 - val_loss: 0.0018 - val_mae: 0.0319\n",
      "Epoch 76/200\n",
      "\u001B[1m10/10\u001B[0m \u001B[32m━━━━━━━━━━━━━━━━━━━━\u001B[0m\u001B[37m\u001B[0m \u001B[1m0s\u001B[0m 7ms/step - loss: 1.7993e-04 - mae: 0.0105 - val_loss: 0.0017 - val_mae: 0.0320\n",
      "Epoch 77/200\n",
      "\u001B[1m10/10\u001B[0m \u001B[32m━━━━━━━━━━━━━━━━━━━━\u001B[0m\u001B[37m\u001B[0m \u001B[1m0s\u001B[0m 7ms/step - loss: 1.8911e-04 - mae: 0.0108 - val_loss: 0.0018 - val_mae: 0.0319\n",
      "Epoch 78/200\n",
      "\u001B[1m10/10\u001B[0m \u001B[32m━━━━━━━━━━━━━━━━━━━━\u001B[0m\u001B[37m\u001B[0m \u001B[1m0s\u001B[0m 7ms/step - loss: 2.0907e-04 - mae: 0.0114 - val_loss: 0.0017 - val_mae: 0.0316\n",
      "Epoch 79/200\n",
      "\u001B[1m10/10\u001B[0m \u001B[32m━━━━━━━━━━━━━━━━━━━━\u001B[0m\u001B[37m\u001B[0m \u001B[1m0s\u001B[0m 7ms/step - loss: 2.1589e-04 - mae: 0.0115 - val_loss: 0.0017 - val_mae: 0.0321\n",
      "Epoch 80/200\n",
      "\u001B[1m10/10\u001B[0m \u001B[32m━━━━━━━━━━━━━━━━━━━━\u001B[0m\u001B[37m\u001B[0m \u001B[1m0s\u001B[0m 7ms/step - loss: 2.0416e-04 - mae: 0.0112 - val_loss: 0.0017 - val_mae: 0.0319\n",
      "Epoch 81/200\n",
      "\u001B[1m10/10\u001B[0m \u001B[32m━━━━━━━━━━━━━━━━━━━━\u001B[0m\u001B[37m\u001B[0m \u001B[1m0s\u001B[0m 7ms/step - loss: 1.8206e-04 - mae: 0.0111 - val_loss: 0.0017 - val_mae: 0.0314\n",
      "Epoch 82/200\n",
      "\u001B[1m10/10\u001B[0m \u001B[32m━━━━━━━━━━━━━━━━━━━━\u001B[0m\u001B[37m\u001B[0m \u001B[1m0s\u001B[0m 7ms/step - loss: 1.7147e-04 - mae: 0.0102 - val_loss: 0.0017 - val_mae: 0.0318\n"
     ]
    }
   ],
   "execution_count": 18
  },
  {
   "metadata": {
    "ExecuteTime": {
     "end_time": "2025-06-25T15:17:04.201202Z",
     "start_time": "2025-06-25T15:17:04.062388Z"
    }
   },
   "cell_type": "code",
   "source": "y_pred=model.predict(X_test)",
   "id": "b8d0db7b6d356203",
   "outputs": [
    {
     "name": "stdout",
     "output_type": "stream",
     "text": [
      "\u001B[1m4/4\u001B[0m \u001B[32m━━━━━━━━━━━━━━━━━━━━\u001B[0m\u001B[37m\u001B[0m \u001B[1m0s\u001B[0m 13ms/step\n"
     ]
    }
   ],
   "execution_count": 19
  },
  {
   "metadata": {
    "ExecuteTime": {
     "end_time": "2025-06-25T15:17:04.216448Z",
     "start_time": "2025-06-25T15:17:04.202710Z"
    }
   },
   "cell_type": "code",
   "source": "r2_score(y_test,y_pred)",
   "id": "af0d362f4083afd7",
   "outputs": [
    {
     "data": {
      "text/plain": [
       "0.9987736803555712"
      ]
     },
     "execution_count": 20,
     "metadata": {},
     "output_type": "execute_result"
    }
   ],
   "execution_count": 20
  },
  {
   "metadata": {
    "ExecuteTime": {
     "end_time": "2025-06-25T15:17:04.405547Z",
     "start_time": "2025-06-25T15:17:04.217438Z"
    }
   },
   "cell_type": "code",
   "source": [
    "plt.plot(history.history['loss'])\n",
    "plt.plot(history.history['val_loss'])"
   ],
   "id": "632652db800c4b1e",
   "outputs": [
    {
     "data": {
      "text/plain": [
       "[<matplotlib.lines.Line2D at 0x2443b826d00>]"
      ]
     },
     "execution_count": 21,
     "metadata": {},
     "output_type": "execute_result"
    },
    {
     "data": {
      "text/plain": [
       "<Figure size 640x480 with 1 Axes>"
      ],
      "image/png": "[encoded data removed]"
     },
     "metadata": {},
     "output_type": "display_data"
    }
   ],
   "execution_count": 21
  },
  {
   "metadata": {
    "ExecuteTime": {
     "end_time": "2025-06-25T15:17:47.293392Z",
     "start_time": "2025-06-25T15:17:04.406465Z"
    }
   },
   "cell_type": "code",
   "source": [
    "# Example: Prompting user for 5 input values\n",
    "import numpy as np\n",
    "\n",
    "# Replace these prompts with actual feature descriptions if known\n",
    "input_data = []\n",
    "input_data.append(float(input(\"Enter value for feature 1 (e.g., gender): \")))\n",
    "input_data.append(float(input(\"Enter value for feature 2 (e.g., Age): \")))\n",
    "input_data.append(float(input(\"Enter value for feature 3 (e.g., Salary): \")))\n",
    "input_data.append(float(input(\"Enter value for feature 4 (e.g., Credit Card Debt): \")))\n",
    "input_data.append(float(input(\"Enter value for feature 5 (e.g., Net Worth): \")))\n",
    "\n",
    "# Convert to NumPy array and reshape\n",
    "input_array = np.array(input_data).reshape(1, -1)\n",
    "\n",
    "# Scale using previously fitted StandardScaler\n",
    "scaled_input = sc.transform(input_array)\n",
    "\n",
    "# Predict using trained model\n",
    "predicted = model.predict(scaled_input)\n",
    "\n",
    "# Inverse-transform if y was scaled\n",
    "predicted = y_scaler.inverse_transform(predicted)\n",
    "\n",
    "print(f\"Predicted Car Purchase Amount: {predicted[0][0]:,.2f}\")"
   ],
   "id": "8af7c72dbf8c6b5d",
   "outputs": [
    {
     "name": "stdout",
     "output_type": "stream",
     "text": [
      "\u001B[1m1/1\u001B[0m \u001B[32m━━━━━━━━━━━━━━━━━━━━\u001B[0m\u001B[37m\u001B[0m \u001B[1m0s\u001B[0m 32ms/step\n",
      "Predicted Car Purchase Amount: 34,703.18\n"
     ]
    }
   ],
   "execution_count": 22
  }
 ],
 "metadata": {
  "kernelspec": {
   "display_name": "Python 3",
   "language": "python",
   "name": "python3"
  },
  "language_info": {
   "codemirror_mode": {
    "name": "ipython",
    "version": 2
   },
   "file_extension": ".py",
   "mimetype": "text/x-python",
   "name": "python",
   "nbconvert_exporter": "python",
   "pygments_lexer": "ipython2",
   "version": "2.7.6"
  }
 },
 "nbformat": 4,
 "nbformat_minor": 5
}
